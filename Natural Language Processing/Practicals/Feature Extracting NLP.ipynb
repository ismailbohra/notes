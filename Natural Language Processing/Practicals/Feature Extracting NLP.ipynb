{
 "cells": [
  {
   "cell_type": "markdown",
   "id": "d13fde14",
   "metadata": {},
   "source": [
    "# Feature Extraction"
   ]
  },
  {
   "cell_type": "code",
   "execution_count": 1,
   "id": "068bf3d3",
   "metadata": {},
   "outputs": [],
   "source": [
    "docA = \"Jay Shri Ram\"\n",
    "docB = \"Jay Shri Krishna\"\n",
    "docC = \"Ram Krishna Paramhansa\""
   ]
  },
  {
   "cell_type": "code",
   "execution_count": 72,
   "id": "97f7f611",
   "metadata": {},
   "outputs": [],
   "source": [
    "bowA = docA.split()\n",
    "bowB = docB.split()\n",
    "bowC = docC.split()"
   ]
  },
  {
   "cell_type": "code",
   "execution_count": 73,
   "id": "1eb03193",
   "metadata": {},
   "outputs": [
    {
     "name": "stdout",
     "output_type": "stream",
     "text": [
      "['Jay', 'Shri', 'Ram']\n",
      "['Jay', 'Shri', 'Krishna']\n",
      "['Ram', 'Krishna', 'Paramhansa']\n"
     ]
    }
   ],
   "source": [
    "print(bowA)\n",
    "print(bowB)\n",
    "print(bowC)"
   ]
  },
  {
   "cell_type": "markdown",
   "id": "f3ca0d3e",
   "metadata": {},
   "source": [
    "# Finding Unique Words"
   ]
  },
  {
   "cell_type": "code",
   "execution_count": 74,
   "id": "15e1a380",
   "metadata": {},
   "outputs": [
    {
     "data": {
      "text/plain": [
       "{'Jay', 'Krishna', 'Paramhansa', 'Ram', 'Shri'}"
      ]
     },
     "execution_count": 74,
     "metadata": {},
     "output_type": "execute_result"
    }
   ],
   "source": [
    "vocab = set(bowA).union(bowB).union(bowC)\n",
    "vocab"
   ]
  },
  {
   "cell_type": "code",
   "execution_count": 75,
   "id": "521918df",
   "metadata": {},
   "outputs": [],
   "source": [
    "wordDictA = dict.fromkeys(vocab, 0)\n",
    "wordDictB = dict.fromkeys(vocab, 0)\n",
    "wordDictC = dict.fromkeys(vocab, 0)"
   ]
  },
  {
   "cell_type": "code",
   "execution_count": 76,
   "id": "d5364c05",
   "metadata": {},
   "outputs": [
    {
     "name": "stdout",
     "output_type": "stream",
     "text": [
      "{'Paramhansa': 0, 'Krishna': 0, 'Shri': 1, 'Jay': 1, 'Ram': 1} {'Paramhansa': 0, 'Krishna': 1, 'Shri': 1, 'Jay': 1, 'Ram': 0} {'Paramhansa': 1, 'Krishna': 1, 'Shri': 0, 'Jay': 0, 'Ram': 1}\n"
     ]
    }
   ],
   "source": [
    "for word in bowA:\n",
    "    wordDictA[word] += 1\n",
    "for word in bowB:\n",
    "    wordDictB[word] += 1\n",
    "for word in bowC:\n",
    "    wordDictC[word] += 1\n",
    "print(wordDictA, wordDictB, wordDictC)"
   ]
  },
  {
   "cell_type": "code",
   "execution_count": 77,
   "id": "1701c786",
   "metadata": {},
   "outputs": [
    {
     "data": {
      "text/html": [
       "<div>\n",
       "<style scoped>\n",
       "    .dataframe tbody tr th:only-of-type {\n",
       "        vertical-align: middle;\n",
       "    }\n",
       "\n",
       "    .dataframe tbody tr th {\n",
       "        vertical-align: top;\n",
       "    }\n",
       "\n",
       "    .dataframe thead th {\n",
       "        text-align: right;\n",
       "    }\n",
       "</style>\n",
       "<table border=\"1\" class=\"dataframe\">\n",
       "  <thead>\n",
       "    <tr style=\"text-align: right;\">\n",
       "      <th></th>\n",
       "      <th>Paramhansa</th>\n",
       "      <th>Krishna</th>\n",
       "      <th>Shri</th>\n",
       "      <th>Jay</th>\n",
       "      <th>Ram</th>\n",
       "    </tr>\n",
       "  </thead>\n",
       "  <tbody>\n",
       "    <tr>\n",
       "      <th>0</th>\n",
       "      <td>0</td>\n",
       "      <td>0</td>\n",
       "      <td>1</td>\n",
       "      <td>1</td>\n",
       "      <td>1</td>\n",
       "    </tr>\n",
       "    <tr>\n",
       "      <th>1</th>\n",
       "      <td>0</td>\n",
       "      <td>1</td>\n",
       "      <td>1</td>\n",
       "      <td>1</td>\n",
       "      <td>0</td>\n",
       "    </tr>\n",
       "    <tr>\n",
       "      <th>2</th>\n",
       "      <td>1</td>\n",
       "      <td>1</td>\n",
       "      <td>0</td>\n",
       "      <td>0</td>\n",
       "      <td>1</td>\n",
       "    </tr>\n",
       "  </tbody>\n",
       "</table>\n",
       "</div>"
      ],
      "text/plain": [
       "   Paramhansa  Krishna  Shri  Jay  Ram\n",
       "0           0        0     1    1    1\n",
       "1           0        1     1    1    0\n",
       "2           1        1     0    0    1"
      ]
     },
     "execution_count": 77,
     "metadata": {},
     "output_type": "execute_result"
    }
   ],
   "source": [
    "import pandas as pd\n",
    "pd.DataFrame([wordDictA,wordDictB,wordDictC])"
   ]
  },
  {
   "cell_type": "markdown",
   "id": "12714ffc",
   "metadata": {},
   "source": [
    "# TF-IDF"
   ]
  },
  {
   "cell_type": "code",
   "execution_count": 78,
   "id": "ee7b8484",
   "metadata": {},
   "outputs": [],
   "source": [
    "# TF\n",
    "def calcTF(wordDict, bow):\n",
    "    tfDict = {}\n",
    "    bowCount = len(bow)\n",
    "    for word, count in wordDict.items():\n",
    "        tfDict[word] = count/float(bowCount)\n",
    "    return tfDict"
   ]
  },
  {
   "cell_type": "code",
   "execution_count": 79,
   "id": "dcbae07b",
   "metadata": {},
   "outputs": [],
   "source": [
    "tfBowA = calcTF(wordDictA, bowA)\n",
    "tfBowB = calcTF(wordDictB, bowB)\n",
    "tfBowC = calcTF(wordDictC, bowC)"
   ]
  },
  {
   "cell_type": "code",
   "execution_count": 80,
   "id": "493c3290",
   "metadata": {},
   "outputs": [
    {
     "name": "stdout",
     "output_type": "stream",
     "text": [
      "{'Paramhansa': 0.0, 'Krishna': 0.0, 'Shri': 0.3333333333333333, 'Jay': 0.3333333333333333, 'Ram': 0.3333333333333333}\n",
      "{'Paramhansa': 0.0, 'Krishna': 0.3333333333333333, 'Shri': 0.3333333333333333, 'Jay': 0.3333333333333333, 'Ram': 0.0}\n",
      "{'Paramhansa': 0.3333333333333333, 'Krishna': 0.3333333333333333, 'Shri': 0.0, 'Jay': 0.0, 'Ram': 0.3333333333333333}\n"
     ]
    }
   ],
   "source": [
    "print(tfBowA)\n",
    "print(tfBowB)\n",
    "print(tfBowC)"
   ]
  },
  {
   "cell_type": "code",
   "execution_count": 81,
   "id": "94c0e911",
   "metadata": {},
   "outputs": [
    {
     "name": "stdout",
     "output_type": "stream",
     "text": [
      "{'Paramhansa': 1.6989700043360187, 'Krishna': 1.4771212547196624, 'Shri': 1.4771212547196624, 'Jay': 1.4771212547196624, 'Ram': 1.4771212547196624}\n"
     ]
    }
   ],
   "source": [
    "# IDF\n",
    "\n",
    "import math\n",
    "def calcIDF(docList):\n",
    "    idfDict = {}\n",
    "    N = len(docList)\n",
    "    \n",
    "    idfDict = dict.fromkeys(docList[0].keys(), 0)\n",
    "    for doc in docList:\n",
    "        for word, val in doc.items():\n",
    "            if val > 0:\n",
    "                idfDict[word] += 1\n",
    "            \n",
    "    for word, val in idfDict.items():\n",
    "        idfDict[word] = math.log10((N + 1) / float(val) + 1.0) + 1.0\n",
    "        \n",
    "    return idfDict\n",
    "idfs = calcIDF([wordDictA,wordDictB,wordDictC])\n",
    "print(idfs)"
   ]
  },
  {
   "cell_type": "code",
   "execution_count": 82,
   "id": "df459eb9",
   "metadata": {},
   "outputs": [
    {
     "data": {
      "text/html": [
       "<div>\n",
       "<style scoped>\n",
       "    .dataframe tbody tr th:only-of-type {\n",
       "        vertical-align: middle;\n",
       "    }\n",
       "\n",
       "    .dataframe tbody tr th {\n",
       "        vertical-align: top;\n",
       "    }\n",
       "\n",
       "    .dataframe thead th {\n",
       "        text-align: right;\n",
       "    }\n",
       "</style>\n",
       "<table border=\"1\" class=\"dataframe\">\n",
       "  <thead>\n",
       "    <tr style=\"text-align: right;\">\n",
       "      <th></th>\n",
       "      <th>Paramhansa</th>\n",
       "      <th>Krishna</th>\n",
       "      <th>Shri</th>\n",
       "      <th>Jay</th>\n",
       "      <th>Ram</th>\n",
       "    </tr>\n",
       "  </thead>\n",
       "  <tbody>\n",
       "    <tr>\n",
       "      <th>0</th>\n",
       "      <td>0.000000</td>\n",
       "      <td>0.000000</td>\n",
       "      <td>0.492374</td>\n",
       "      <td>0.492374</td>\n",
       "      <td>0.492374</td>\n",
       "    </tr>\n",
       "    <tr>\n",
       "      <th>1</th>\n",
       "      <td>0.000000</td>\n",
       "      <td>0.492374</td>\n",
       "      <td>0.492374</td>\n",
       "      <td>0.492374</td>\n",
       "      <td>0.000000</td>\n",
       "    </tr>\n",
       "    <tr>\n",
       "      <th>2</th>\n",
       "      <td>0.566323</td>\n",
       "      <td>0.492374</td>\n",
       "      <td>0.000000</td>\n",
       "      <td>0.000000</td>\n",
       "      <td>0.492374</td>\n",
       "    </tr>\n",
       "  </tbody>\n",
       "</table>\n",
       "</div>"
      ],
      "text/plain": [
       "   Paramhansa   Krishna      Shri       Jay       Ram\n",
       "0    0.000000  0.000000  0.492374  0.492374  0.492374\n",
       "1    0.000000  0.492374  0.492374  0.492374  0.000000\n",
       "2    0.566323  0.492374  0.000000  0.000000  0.492374"
      ]
     },
     "execution_count": 82,
     "metadata": {},
     "output_type": "execute_result"
    }
   ],
   "source": [
    "# TFIDF\n",
    "\n",
    "def calcTFIDF(tfBow, idfs):\n",
    "    tfidf = {}\n",
    "    for word, val in tfBow.items():\n",
    "        tfidf[word] = val*idfs[word]\n",
    "    return tfidf\n",
    "idfFirst = calcTFIDF(tfBowA, idfs)\n",
    "idfSecond = calcTFIDF(tfBowB, idfs)\n",
    "idfThird = calcTFIDF(tfBowC, idfs)\n",
    "idf= pd.DataFrame([idfFirst, idfSecond,idfThird])\n",
    "idf"
   ]
  }
 ],
 "metadata": {
  "kernelspec": {
   "display_name": "Python 3.8.10 64-bit",
   "language": "python",
   "name": "python3810jvsc74a57bd0916dbcbb3f70747c44a77c7bcd40155683ae19c65e1c03b4aa3499c5328201f1"
  },
  "language_info": {
   "codemirror_mode": {
    "name": "ipython",
    "version": 3
   },
   "file_extension": ".py",
   "mimetype": "text/x-python",
   "name": "python",
   "nbconvert_exporter": "python",
   "pygments_lexer": "ipython3",
   "version": "3.8.10"
  }
 },
 "nbformat": 4,
 "nbformat_minor": 5
}
